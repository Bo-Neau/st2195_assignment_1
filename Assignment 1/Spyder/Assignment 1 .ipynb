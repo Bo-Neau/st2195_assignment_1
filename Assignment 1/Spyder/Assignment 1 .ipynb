{
 "cells": [
  {
   "cell_type": "code",
   "execution_count": 1,
   "id": "ed1d7706",
   "metadata": {},
   "outputs": [],
   "source": [
    "#This is the assignment 1 for Data Science Programming.\n",
    "#It contains code for printing integer between 1 and 10."
   ]
  },
  {
   "cell_type": "code",
   "execution_count": 2,
   "id": "56d5d3d9",
   "metadata": {},
   "outputs": [
    {
     "name": "stdout",
     "output_type": "stream",
     "text": [
      "1\n",
      "2\n",
      "3\n",
      "4\n",
      "5\n",
      "6\n",
      "7\n",
      "8\n",
      "9\n",
      "10\n"
     ]
    }
   ],
   "source": [
    "for num in range (1,11):\n",
    "    print (num)\n"
   ]
  },
  {
   "cell_type": "code",
   "execution_count": null,
   "id": "eee8cc6d",
   "metadata": {},
   "outputs": [],
   "source": []
  }
 ],
 "metadata": {
  "kernelspec": {
   "display_name": "Python 3 (ipykernel)",
   "language": "python",
   "name": "python3"
  },
  "language_info": {
   "codemirror_mode": {
    "name": "ipython",
    "version": 3
   },
   "file_extension": ".py",
   "mimetype": "text/x-python",
   "name": "python",
   "nbconvert_exporter": "python",
   "pygments_lexer": "ipython3",
   "version": "3.11.4"
  }
 },
 "nbformat": 4,
 "nbformat_minor": 5
}
